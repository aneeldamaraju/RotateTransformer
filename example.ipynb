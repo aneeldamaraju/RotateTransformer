{
 "cells": [
  {
   "cell_type": "markdown",
   "metadata": {
    "collapsed": true
   },
   "source": [
    "## Imports and Preliminaries"
   ]
  },
  {
   "cell_type": "code",
   "execution_count": 1,
   "metadata": {},
   "outputs": [],
   "source": [
    "import numpy as np\n",
    "import matplotlib.pyplot as plt\n",
    "import cv2\n",
    "from scipy import ndimage\n",
    "import torch\n",
    "from torch import nn\n",
    "from torch.nn.functional import interpolate\n",
    "from torch.utils.data import DataLoader"
   ]
  },
  {
   "cell_type": "markdown",
   "metadata": {},
   "source": [
    "## Part 1: Data Geneneration"
   ]
  },
  {
   "cell_type": "code",
   "execution_count": 2,
   "metadata": {},
   "outputs": [
    {
     "data": {
      "image/png": "[encoded data removed]",
      "text/plain": [
       "<Figure size 432x288 with 1 Axes>"
      ]
     },
     "metadata": {},
     "output_type": "display_data"
    }
   ],
   "source": [
    "#Lets start by just have a data object that is a simple square\n",
    "H=W=256\n",
    "canvas = np.zeros([256,256])\n",
    "canvas[64:256-64,64:256-64] = 1.0\n",
    "plt.imshow(canvas,cmap='gray_r')\n",
    "plt.xticks([]);plt.yticks([]);"
   ]
  },
  {
   "cell_type": "code",
   "execution_count": 8,
   "metadata": {},
   "outputs": [
    {
     "data": {
      "image/png": "[encoded data removed]",
      "text/plain": [
       "<Figure size 432x288 with 1 Axes>"
      ]
     },
     "metadata": {
      "needs_background": "light"
     },
     "output_type": "display_data"
    }
   ],
   "source": [
    "#rotation for fun https://stackoverflow.com/a/18683594\n",
    "def rotate_img(img,deg=None):\n",
    "    if deg == None:\n",
    "        deg = np.random.randint(0,360)\n",
    "    return (ndimage.rotate(img, deg, reshape=False))>.5\n",
    "plt.imshow(rotate_img(canvas),cmap='gray_r')\n",
    "rotated = rotate_img(canvas)"
   ]
  },
  {
   "cell_type": "code",
   "execution_count": 9,
   "metadata": {},
   "outputs": [],
   "source": [
    "#Some plotting code\n",
    "def add_axis_grid(ax,H,W,R):\n",
    "    #https://stackoverflow.com/questions/38973868/adjusting-gridlines-and-ticks-in-matplotlib-imshow\n",
    "    # Major ticks\n",
    "    ax.set_xticks([])\n",
    "    ax.set_yticks([])\n",
    "\n",
    "    # Labels for major ticks\n",
    "    ax.set_xticklabels([])\n",
    "    ax.set_yticklabels([])\n",
    "\n",
    "    # Minor ticks\n",
    "    ax.set_xticks(np.arange(-.5, W, R), minor=True)\n",
    "    ax.set_yticks(np.arange(-.5, H, R), minor=True)\n",
    "    \n",
    "    # Gridlines based on minor ticks\n",
    "    ax.grid(which='minor', color='b', linestyle='-', linewidth=1)"
   ]
  },
  {
   "cell_type": "code",
   "execution_count": 10,
   "metadata": {},
   "outputs": [
    {
     "data": {
      "image/png": "[encoded data removed]",
      "text/plain": [
       "<Figure size 432x288 with 2 Axes>"
      ]
     },
     "metadata": {},
     "output_type": "display_data"
    }
   ],
   "source": [
    "R = 8\n",
    "plt.subplot(121)\n",
    "plt.imshow(canvas,cmap='gray_r')\n",
    "add_axis_grid(plt.gca(),H,W,R)\n",
    "plt.subplot(122)\n",
    "plt.imshow(rotated,cmap='gray_r')\n",
    "add_axis_grid(plt.gca(),H,W,R)"
   ]
  },
  {
   "cell_type": "markdown",
   "metadata": {},
   "source": [
    "### Getting image patches into point cloud format"
   ]
  },
  {
   "cell_type": "code",
   "execution_count": 11,
   "metadata": {},
   "outputs": [],
   "source": [
    "#Some code for getting nonoverlapping patches\n",
    "psz=16\n",
    "img_patches = nn.Unfold(psz, psz)(torch.tensor(rotated>.5).to(torch.float64).view(1,1,H,W)).view(-1, int(H/psz), int(W/psz))"
   ]
  },
  {
   "cell_type": "code",
   "execution_count": 12,
   "metadata": {},
   "outputs": [],
   "source": [
    "psz=16\n",
    "img_patches = nn.Unfold(psz, psz)(torch.tensor(rotated>.5).to(torch.float64).view(1,1,H,W)).view(-1, int(H/psz), int(W/psz))\n",
    "R = 8\n",
    "xs = torch.arange(R).to(torch.float64)\n",
    "ys = torch.arange(R).to(torch.float64)\n",
    "grid_x, grid_y = torch.meshgrid(xs, ys, indexing='ij')\n",
    "grid_x = grid_x.flatten().view(1,1,-1).expand(img_patches.shape[0],-1,-1)\n",
    "grid_y = grid_y.flatten().view(1,1,-1).expand(img_patches.shape[0],-1,-1)"
   ]
  },
  {
   "cell_type": "code",
   "execution_count": 13,
   "metadata": {},
   "outputs": [],
   "source": [
    "interp = interpolate(img_patches.unsqueeze(0), size=[8,8]).view(img_patches.shape[0],-1,R**2)"
   ]
  },
  {
   "cell_type": "code",
   "execution_count": 14,
   "metadata": {},
   "outputs": [],
   "source": [
    "interp = interpolate(img_patches.unsqueeze(0), size=[8,8]).view(img_patches.shape[0],-1,R**2)\n",
    "point_cloud = torch.cat([grid_x,grid_y,interp],dim=1)"
   ]
  },
  {
   "cell_type": "code",
   "execution_count": 15,
   "metadata": {},
   "outputs": [
    {
     "data": {
      "text/plain": [
       "<matplotlib.collections.PathCollection at 0x7ff9e845cdf0>"
      ]
     },
     "execution_count": 15,
     "metadata": {},
     "output_type": "execute_result"
    },
    {
     "data": {
      "image/png": "[encoded data removed]",
      "text/plain": [
       "<Figure size 432x288 with 1 Axes>"
      ]
     },
     "metadata": {
      "needs_background": "light"
     },
     "output_type": "display_data"
    }
   ],
   "source": [
    "plt.scatter(point_cloud[85,0,:],point_cloud[85,1,:],c=point_cloud[85,2,:])"
   ]
  },
  {
   "cell_type": "markdown",
   "metadata": {},
   "source": [
    "### Using the \"Animals\" Dataset"
   ]
  },
  {
   "cell_type": "code",
   "execution_count": 16,
   "metadata": {},
   "outputs": [],
   "source": [
    "# https://sites.google.com/site/xiangbai/animaldataset\n",
    "import os\n",
    "from torchvision import datasets, transforms\n",
    "from torchvision.transforms import ToTensor"
   ]
  },
  {
   "cell_type": "code",
   "execution_count": 17,
   "metadata": {},
   "outputs": [],
   "source": [
    "H=W=256\n",
    "transform_list = transforms.Compose([\n",
    "    transforms.Resize([int(H*5/8),int(W*5/8)]),\n",
    "    transforms.Pad([int(H*3/16),int(W*3/16)]),\n",
    "    transforms.Grayscale(),\n",
    "    transforms.ToTensor()])\n",
    "dataset=datasets.ImageFolder(root=\"./non_rigid_shape_A/\",transform=transform_list)\n"
   ]
  },
  {
   "cell_type": "code",
   "execution_count": 18,
   "metadata": {},
   "outputs": [
    {
     "data": {
      "image/png": "[encoded data removed]",
      "text/plain": [
       "<Figure size 432x288 with 2 Axes>"
      ]
     },
     "metadata": {},
     "output_type": "display_data"
    }
   ],
   "source": [
    "test_img = dataset[0][0].permute(1,2,0)\n",
    "plt.subplot(121)\n",
    "plt.imshow(test_img,cmap='gray_r')\n",
    "add_axis_grid(plt.gca(),H,W,R)\n",
    "plt.subplot(122)\n",
    "plt.imshow(rotate_img(test_img),cmap='gray_r')\n",
    "add_axis_grid(plt.gca(),H,W,R)\n",
    "plt.tight_layout(rect=[0, 0, 1, 1.1])\n",
    "plt.suptitle(f'Category = {dataset.classes[dataset[0][1]]}');\n"
   ]
  },
  {
   "cell_type": "code",
   "execution_count": 19,
   "metadata": {},
   "outputs": [],
   "source": [
    "from torch.utils.data import DataLoader\n",
    "train_set, test_set = torch.utils.data.random_split(dataset, [int(len(dataset)*4/5), int(len(dataset)*1/5)])\n",
    "train_dataloader = DataLoader(train_set, batch_size=10, shuffle=True)\n",
    "test_dataloader = DataLoader(test_set, batch_size=10, shuffle=True)"
   ]
  },
  {
   "cell_type": "code",
   "execution_count": 81,
   "metadata": {},
   "outputs": [],
   "source": [
    "#function here : make pointclouds ->\n",
    "def make_pointclouds(imgs,psz=16,R=8):\n",
    "    '''\n",
    "    Takes in tensors of size [bsz,1,H,W]\n",
    "    Returns output of size [bsz,H/psz*W/psz (Number of patches),R**2,3]\n",
    "    '''\n",
    "    bsz,_,H,W = imgs.shape\n",
    "    img_patches = nn.Unfold(psz, psz)((imgs>.5).to(torch.float64).view(bsz,1,H,W)).view(bsz,-1, int(H/psz), int(W/psz))\n",
    "    xs = torch.arange(R).to(torch.float64)\n",
    "    ys = torch.arange(R).to(torch.float64)\n",
    "    grid_x, grid_y = torch.meshgrid(xs, ys, indexing='ij')\n",
    "    # Repeat the coordinate information for each batch and patch\n",
    "    grid_x = grid_x.flatten().view(1,1,-1).expand(img_patches.shape[0],img_patches.shape[1],-1).unsqueeze(-1)\n",
    "    grid_y = grid_y.flatten().view(1,1,-1).expand(img_patches.shape[0],img_patches.shape[1],-1).unsqueeze(-1)\n",
    "    interp = interpolate(img_patches, size=[8,8]).view(img_patches.shape[0],-1,R**2).unsqueeze(-1)\n",
    "    point_cloud = torch.cat([grid_x,grid_y,interp],dim=-1).to(torch.float)\n",
    "    return point_cloud"
   ]
  },
  {
   "cell_type": "code",
   "execution_count": 82,
   "metadata": {},
   "outputs": [],
   "source": [
    "for batch in train_dataloader:\n",
    "    imgs,labels = batch\n",
    "    pcs= make_pointclouds(imgs)"
   ]
  },
  {
   "cell_type": "code",
   "execution_count": null,
   "metadata": {},
   "outputs": [],
   "source": []
  },
  {
   "cell_type": "code",
   "execution_count": 23,
   "metadata": {},
   "outputs": [
    {
     "data": {
      "text/plain": [
       "torch.Size([10, 256, 64, 3])"
      ]
     },
     "execution_count": 23,
     "metadata": {},
     "output_type": "execute_result"
    }
   ],
   "source": [
    "pcs.shape"
   ]
  },
  {
   "cell_type": "markdown",
   "metadata": {},
   "source": [
    "## Part 2: Modelling"
   ]
  },
  {
   "cell_type": "code",
   "execution_count": 60,
   "metadata": {},
   "outputs": [],
   "source": [
    "# Create an embedder with vector neurons\n",
    "# Where I am at right now: I have created a torch dataset that has all of the images that I want in there\n",
    "# I have also created a couple of lines of code that will take an image and turn it into a point cloud\n",
    "# I need to see if I can make this work for a group of images in a batch and how to batch images for a dataloader\n",
    "# After this I work on modeling, which is basically seeing if I can get an implementation of vnn working before anything else\n",
    "\n",
    "from models.vn_layers import VNLinearLeakyReLU,VNLinear\n",
    "from models.vn_pointnet import PointNetEncoder"
   ]
  },
  {
   "cell_type": "code",
   "execution_count": 126,
   "metadata": {},
   "outputs": [],
   "source": [
    "# Implement vnn code \n",
    "# Couple of vnn layers with a linear dimension... after this linear dimension apply traditional apporaches like mlp for prediction\n",
    "# Train end to end model on classification task \n",
    "# Basic batch classification on the outputs of the model\n",
    "\n",
    "class VN_encoder(nn.Module):\n",
    "    def __init__(self):\n",
    "        super(VN_encoder, self).__init__()\n",
    "        self.layer1 = VNLinearLeakyReLU(64,32,dim=5)\n",
    "        self.layer2 = VNLinearLeakyReLU(32,16,dim=4)\n",
    "        self.layer3 = VNLinear(16,8)\n",
    "    def forward(self,x):\n",
    "        x = self.layer1(x)\n",
    "        return self.layer3(self.layer2(x)).permute(0,3,1,2)\n",
    "\n",
    "class MLP_encoder(nn.Module):\n",
    "    def __init__(self):\n",
    "        super(MLP_encoder, self).__init__()\n",
    "        self.layer1 = nn.Sequential(*[nn.Linear(64*3,32*3),nn.LeakyReLU()])\n",
    "        self.layer2 = nn.Sequential(*[nn.Linear(32*3,16*3),nn.LeakyReLU()])\n",
    "        self.layer3 = nn.Linear(16*3,8*3)\n",
    "        \n",
    "    def forward(self,x):\n",
    "        x = self.layer1(x)\n",
    "        return self.layer3(self.layer2(x))\n",
    "    \n",
    "class MLP_decoder(nn.Module):\n",
    "    def __init__(self,N=256):\n",
    "        super(MLP_decoder, self).__init__()\n",
    "        in_dim = 24 #8*3\n",
    "        self.layer1 = nn.Sequential(*[nn.Linear(N*8*3,N*8),nn.LeakyReLU()])\n",
    "        self.layer2 = nn.Sequential(*[nn.Linear(N*8,N),nn.LeakyReLU()])\n",
    "        self.layer3 = nn.Linear(N,10)\n",
    "    \n",
    "    def forward(self,x):\n",
    "        x = self.layer1(x)\n",
    "        return self.layer3(self.layer2(x))\n"
   ]
  },
  {
   "cell_type": "code",
   "execution_count": 127,
   "metadata": {},
   "outputs": [],
   "source": [
    "test = VN_encoder()\n",
    "test2 = MLP_encoder()\n",
    "test3 = MLP_decoder()"
   ]
  },
  {
   "cell_type": "code",
   "execution_count": 128,
   "metadata": {},
   "outputs": [
    {
     "data": {
      "text/plain": [
       "torch.Size([10, 256, 24])"
      ]
     },
     "execution_count": 128,
     "metadata": {},
     "output_type": "execute_result"
    }
   ],
   "source": [
    "test2(pcs.view(pcs.shape[0],pcs.shape[1],-1)).shape"
   ]
  },
  {
   "cell_type": "code",
   "execution_count": null,
   "metadata": {},
   "outputs": [
    {
     "name": "stdout",
     "output_type": "stream",
     "text": [
      "Epoch: 0, loss = 184.94331526756287\n",
      "Epoch: 1, loss = 184.34732389450073\n",
      "Epoch: 2, loss = 184.24916577339172\n",
      "Epoch: 3, loss = 184.2281951904297\n",
      "Epoch: 4, loss = 184.23351860046387\n",
      "Epoch: 5, loss = 184.2285590171814\n",
      "Epoch: 6, loss = 184.2271270751953\n",
      "Epoch: 7, loss = 184.22475266456604\n",
      "Epoch: 8, loss = 184.22450137138367\n"
     ]
    }
   ],
   "source": [
    "enc_model = VN_encoder()\n",
    "dec_model = MLP_decoder()\n",
    "optim = optim = torch.optim.Adam(list(enc_model.parameters()) + list(dec_model.parameters()), lr=1e-4, betas=(0.9, 0.96), weight_decay=4.5e-2)\n",
    "lossfn = nn.CrossEntropyLoss()\n",
    "\n",
    "for epoch in range(10):\n",
    "    epoch_loss = 0\n",
    "    acc_list = []\n",
    "    for i,batch in enumerate(train_dataloader):\n",
    "        imgs,labels = batch\n",
    "        pcs= make_pointclouds(imgs)\n",
    "        encoding = enc_model(pcs.permute(0,2,3,1))\n",
    "        pred_labels = dec_model(encoding.reshape(encoding.shape[0],-1))\n",
    "        loss = lossfn(pred_labels,labels.to(torch.long))\n",
    "        epoch_loss += loss.detach().item()\n",
    "        loss.backward()\n",
    "        optim.step()\n",
    "        optim.zero_grad()\n",
    "        acc_list.append(torch.mean(pred_labels.argmax(1) == labels))\n",
    "    print(f'Epoch: {epoch}, loss = {epoch_loss}, accuracy = {torch.mean(acc_list)}')\n",
    "    "
   ]
  },
  {
   "cell_type": "code",
   "execution_count": 124,
   "metadata": {},
   "outputs": [
    {
     "data": {
      "text/plain": [
       "torch.int64"
      ]
     },
     "execution_count": 124,
     "metadata": {},
     "output_type": "execute_result"
    }
   ],
   "source": []
  },
  {
   "cell_type": "code",
   "execution_count": 110,
   "metadata": {},
   "outputs": [
    {
     "data": {
      "text/plain": [
       "tensor([[-0.0457],\n",
       "        [-0.0484],\n",
       "        [-0.0450],\n",
       "        [-0.0407],\n",
       "        [-0.0497],\n",
       "        [-0.0466],\n",
       "        [-0.0434],\n",
       "        [-0.0435],\n",
       "        [-0.0448],\n",
       "        [-0.0492]], grad_fn=<AddmmBackward0>)"
      ]
     },
     "execution_count": 110,
     "metadata": {},
     "output_type": "execute_result"
    }
   ],
   "source": [
    "t = test(pcs.permute(0,2,3,1))\n",
    "B,N = t.shape[:2]\n",
    "test3(t.reshape(B,-1))"
   ]
  },
  {
   "cell_type": "code",
   "execution_count": 102,
   "metadata": {},
   "outputs": [
    {
     "data": {
      "text/plain": [
       "torch.Size([10, 256, 8, 3])"
      ]
     },
     "execution_count": 102,
     "metadata": {},
     "output_type": "execute_result"
    }
   ],
   "source": [
    "t.shape"
   ]
  },
  {
   "cell_type": "code",
   "execution_count": 104,
   "metadata": {},
   "outputs": [
    {
     "data": {
      "text/plain": [
       "torch.Size([10, 256, 24])"
      ]
     },
     "execution_count": 104,
     "metadata": {},
     "output_type": "execute_result"
    }
   ],
   "source": [
    "t.reshape(10,256,24).shape"
   ]
  },
  {
   "cell_type": "code",
   "execution_count": 262,
   "metadata": {},
   "outputs": [
    {
     "data": {
      "text/plain": [
       "torch.Size([10, 256, 64, 3])"
      ]
     },
     "execution_count": 262,
     "metadata": {},
     "output_type": "execute_result"
    }
   ],
   "source": [
    "pcs.shape"
   ]
  },
  {
   "cell_type": "code",
   "execution_count": 271,
   "metadata": {},
   "outputs": [
    {
     "data": {
      "text/plain": [
       "torch.Size([10, 3, 64, 256])"
      ]
     },
     "execution_count": 271,
     "metadata": {},
     "output_type": "execute_result"
    }
   ],
   "source": [
    "pcs.transpose(1, -1).shape"
   ]
  },
  {
   "cell_type": "code",
   "execution_count": null,
   "metadata": {},
   "outputs": [],
   "source": []
  }
 ],
 "metadata": {
  "kernelspec": {
   "display_name": "Python 3",
   "language": "python",
   "name": "python3"
  },
  "language_info": {
   "codemirror_mode": {
    "name": "ipython",
    "version": 3
   },
   "file_extension": ".py",
   "mimetype": "text/x-python",
   "name": "python",
   "nbconvert_exporter": "python",
   "pygments_lexer": "ipython3",
   "version": "3.9.2"
  }
 },
 "nbformat": 4,
 "nbformat_minor": 1
}